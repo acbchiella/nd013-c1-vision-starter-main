{
 "cells": [
  {
   "cell_type": "markdown",
   "metadata": {},
   "source": [
    "# Explore the dataset\n",
    "\n",
    "\n",
    "In this notebook, we will perform an EDA (Exploratory Data Analysis) on the processed Waymo dataset (data in the `processed` folder). In the first part, you will create a function to display "
   ]
  },
  {
   "cell_type": "code",
   "execution_count": null,
   "metadata": {},
   "outputs": [],
   "source": [
    "from utils import get_dataset\n",
    "import matplotlib.pyplot as plt\n",
    "from matplotlib.patches import Rectangle\n",
    "import numpy as np\n",
    "import tensorflow as tf\n",
    "import seaborn as sns\n",
    "import pandas as pd\n",
    "%matplotlib inline"
   ]
  },
  {
   "cell_type": "code",
   "execution_count": null,
   "metadata": {},
   "outputs": [],
   "source": [
    "data_dir = \"data/train/*.tfrecord\" \n",
    "# PS: The function get_dataset was changed in order to not shuffle the data in loading.\n",
    "dataset = get_dataset(data_dir, shuffle = False, label_map='./label_map.pbtxt')"
   ]
  },
  {
   "cell_type": "markdown",
   "metadata": {},
   "source": [
    "## Write a function to display an image and the bounding boxes\n",
    "\n",
    "Implement the `display_instances` function below. This function takes a batch as an input and display an image with its corresponding bounding boxes. The only requirement is that the classes should be color coded (eg, vehicles in red, pedestrians in blue, cyclist in green)."
   ]
  },
  {
   "cell_type": "code",
   "execution_count": null,
   "metadata": {},
   "outputs": [],
   "source": [
    "def display_instances(batch, ax):\n",
    "    \"\"\"\n",
    "    This function takes a batch from the dataset and display the image with \n",
    "    the associated bounding boxes.\n",
    "    \"\"\"\n",
    "   \n",
    "    # color mapping of classes\n",
    "    colormap = {1: [1, 0, 0], 2: [0, 1, 0], 4: [0, 0, 1]}\n",
    "    img = batch[\"image\"].numpy()\n",
    "    gt_bboxes = batch['groundtruth_boxes'].numpy()\n",
    "    gt_classes = batch['groundtruth_classes'].numpy()    \n",
    "    \n",
    "    ax.imshow(img)\n",
    "    \n",
    "    # draw boxes\n",
    "    for cl, bb in zip(gt_classes, gt_bboxes):\n",
    "        y1, x1, y2, x2 = bb\n",
    "        x1 *= img.shape[1]\n",
    "        x2 *= img.shape[1]\n",
    "        y1 *= img.shape[0]\n",
    "        y2 *= img.shape[0]\n",
    "        rec = Rectangle((x1, y1), x2-x1, y2-y1, facecolor='none', edgecolor=colormap[cl])\n",
    "        ax.add_patch(rec)"
   ]
  },
  {
   "cell_type": "markdown",
   "metadata": {},
   "source": [
    "## Display 10 images \n",
    "\n",
    "Using the dataset created in the second cell and the function you just coded, display 10 random images with the associated bounding boxes. You can use the methods `take` and `shuffle` on the dataset."
   ]
  },
  {
   "cell_type": "code",
   "execution_count": null,
   "metadata": {},
   "outputs": [],
   "source": [
    "## STUDENT SOLUTION HERE## STUDENT SOLUTION HERE\n",
    "shuffle_seed = 1\n",
    "shuffle_value = 100\n",
    "\n",
    "plt.figure()\n",
    "layout_plt = [2, 5]\n",
    "number_images = layout_plt[0] * layout_plt[1]\n",
    "f, ax = plt.subplots(*layout_plt, figsize=(20, 20))\n",
    "for idx, batch in enumerate(dataset.shuffle(shuffle_value, seed=shuffle_seed).take(number_images)):\n",
    "    x = idx % layout_plt[0]\n",
    "    y = idx % layout_plt[1]\n",
    "    display_instances(batch, ax[x, y])\n",
    "    ax[x ,y].axis('off')\n",
    "    plt.tight_layout()\n",
    "\n",
    "plt.show()"
   ]
  },
  {
   "cell_type": "markdown",
   "metadata": {},
   "source": [
    "## Additional EDA\n",
    "\n",
    "In this last part, you are free to perform any additional analysis of the dataset. What else would like to know about the data?\n",
    "For example, think about data distribution. So far, you have only looked at a single file..."
   ]
  },
  {
   "cell_type": "markdown",
   "metadata": {},
   "source": [
    "#### Classes distribution"
   ]
  },
  {
   "cell_type": "code",
   "execution_count": null,
   "metadata": {},
   "outputs": [],
   "source": [
    "# For each frame, count the classes\n",
    "n_frames = 10000\n",
    "\n",
    "vehicle_count = np.zeros(n_frames)\n",
    "pedestrian_count = np.zeros(n_frames)\n",
    "cyclist_count = np.zeros(n_frames)\n",
    "\n",
    "for i, frame in enumerate(dataset.take(n_frames)):\n",
    "    frame_classes = frame['groundtruth_classes'].numpy()\n",
    "    values, count = np.unique(frame_classes, return_counts=True)\n",
    "    for j, cl in enumerate(values):\n",
    "        if cl == 1:\n",
    "            vehicle_count[i] += count[j]\n",
    "        if cl == 2:\n",
    "            pedestrian_count[i] += count[j]\n",
    "        if cl == 4:\n",
    "            cyclist_count[i] += count[j]\n",
    "\n",
    "d = {'vehicle': vehicle_count, 'pedestrian': pedestrian_count, 'cyclist': cyclist_count}\n",
    "df = pd.DataFrame(data=d)\n",
    "\n",
    "# Plot histograms of Classes distribution\n",
    "fig, ax = plt.subplots(1,3, figsize=(20, 5))\n",
    "fig.suptitle('Distribution of Classes per frame')\n",
    "sns.histplot(ax=ax[0], data=df, x='vehicle' , kde=True, discrete=True, stat='percent')\n",
    "sns.histplot(ax=ax[1], data=df, x='pedestrian' , kde=True, discrete=True, stat='percent')\n",
    "sns.histplot(ax=ax[2], data=df, x='cyclist' , kde=True, discrete=True, stat='percent')"
   ]
  },
  {
   "cell_type": "markdown",
   "metadata": {},
   "source": [
    "#### Light Distribution\n",
    "The code below plots a histogram of the median value, V of the HSV model, of images. Notice that images with a median of less than 80 were probably gotten at night."
   ]
  },
  {
   "cell_type": "code",
   "execution_count": null,
   "metadata": {},
   "outputs": [],
   "source": [
    "# For each frame, compute the mean of the image value channel \n",
    "n_frames = 3000\n",
    "value_mean = np.zeros(n_frames)\n",
    "\n",
    "for i, frame_ in enumerate(dataset.take(n_frames)):\n",
    "    frame = frame_['image'].numpy()\n",
    "    frame_hsv = colors.rgb_to_hsv(frame)\n",
    "    V = frame_hsv[..., 2].flatten().tolist()\n",
    "    value_mean[i] = np.median(V)\n",
    "\n",
    "fig, ax = plt.subplots(1,1, figsize=(20, 5))\n",
    "ax.set(xlabel='V')\n",
    "sns.histplot(ax=ax, data=value_mean, kde=True, discrete=True, stat='count')"
   ]
  }
 ],
 "metadata": {
  "kernelspec": {
   "display_name": "Python 3.6.9 64-bit",
   "language": "python",
   "name": "python3"
  },
  "language_info": {
   "codemirror_mode": {
    "name": "ipython",
    "version": 3
   },
   "file_extension": ".py",
   "mimetype": "text/x-python",
   "name": "python",
   "nbconvert_exporter": "python",
   "pygments_lexer": "ipython3",
   "version": "3.6.9"
  },
  "vscode": {
   "interpreter": {
    "hash": "31f2aee4e71d21fbe5cf8b01ff0e069b9275f58929596ceb00d14d90e3e16cd6"
   }
  }
 },
 "nbformat": 4,
 "nbformat_minor": 4
}
